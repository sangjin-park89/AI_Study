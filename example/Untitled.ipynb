{
 "cells": [
  {
   "cell_type": "code",
   "execution_count": 1,
   "id": "c3e02143",
   "metadata": {},
   "outputs": [],
   "source": [
    "import pandas as pd"
   ]
  },
  {
   "cell_type": "code",
   "execution_count": 2,
   "id": "fd22953b",
   "metadata": {},
   "outputs": [],
   "source": [
    "from pandas import Series, DataFrame"
   ]
  },
  {
   "cell_type": "code",
   "execution_count": 3,
   "id": "51ff8e99",
   "metadata": {},
   "outputs": [],
   "source": [
    "sangjin = pd.Series([1,2,3,4,5])"
   ]
  },
  {
   "cell_type": "code",
   "execution_count": 7,
   "id": "e70a85d7",
   "metadata": {},
   "outputs": [
    {
     "data": {
      "text/plain": [
       "a    2\n",
       "b    3\n",
       "c    4\n",
       "d    5\n",
       "e    6\n",
       "dtype: int64"
      ]
     },
     "execution_count": 7,
     "metadata": {},
     "output_type": "execute_result"
    }
   ],
   "source": [
    "sangjin"
   ]
  },
  {
   "cell_type": "code",
   "execution_count": 6,
   "id": "8a8d1018",
   "metadata": {},
   "outputs": [],
   "source": [
    "sangjin = pd.Series([2,3,4,5,6], index = ['a','b','c','d','e'])"
   ]
  },
  {
   "cell_type": "code",
   "execution_count": 12,
   "id": "975b44c6",
   "metadata": {},
   "outputs": [],
   "source": [
    "sangjin.name = '상진'"
   ]
  },
  {
   "cell_type": "code",
   "execution_count": 13,
   "id": "8fc8980e",
   "metadata": {},
   "outputs": [
    {
     "data": {
      "text/plain": [
       "상진   NaN\n",
       "Name: 상진, dtype: float64"
      ]
     },
     "execution_count": 13,
     "metadata": {},
     "output_type": "execute_result"
    }
   ],
   "source": [
    "sangjin"
   ]
  },
  {
   "cell_type": "code",
   "execution_count": 15,
   "id": "f63128b9",
   "metadata": {},
   "outputs": [],
   "source": [
    "sangjin.index.name = 'goo'"
   ]
  },
  {
   "cell_type": "code",
   "execution_count": 16,
   "id": "59f110b6",
   "metadata": {},
   "outputs": [
    {
     "data": {
      "text/plain": [
       "goo\n",
       "상진   NaN\n",
       "Name: 상진, dtype: float64"
      ]
     },
     "execution_count": 16,
     "metadata": {},
     "output_type": "execute_result"
    }
   ],
   "source": [
    "sangjin"
   ]
  },
  {
   "cell_type": "code",
   "execution_count": 18,
   "id": "cebc5114",
   "metadata": {},
   "outputs": [],
   "source": [
    "sangjin = pd.Series([10,20,30,40,50], index =['머리','어깨','무릎','발','무릎'])"
   ]
  },
  {
   "cell_type": "code",
   "execution_count": 19,
   "id": "ee741cf1",
   "metadata": {},
   "outputs": [
    {
     "data": {
      "text/plain": [
       "머리    10\n",
       "어깨    20\n",
       "무릎    30\n",
       "발     40\n",
       "무릎    50\n",
       "dtype: int64"
      ]
     },
     "execution_count": 19,
     "metadata": {},
     "output_type": "execute_result"
    }
   ],
   "source": [
    "sangjin"
   ]
  },
  {
   "cell_type": "code",
   "execution_count": 20,
   "id": "b342da53",
   "metadata": {},
   "outputs": [],
   "source": [
    "sangjin.name = '상진'"
   ]
  },
  {
   "cell_type": "code",
   "execution_count": 21,
   "id": "3a5601b7",
   "metadata": {},
   "outputs": [
    {
     "data": {
      "text/plain": [
       "머리    10\n",
       "어깨    20\n",
       "무릎    30\n",
       "발     40\n",
       "무릎    50\n",
       "Name: 상진, dtype: int64"
      ]
     },
     "execution_count": 21,
     "metadata": {},
     "output_type": "execute_result"
    }
   ],
   "source": [
    "sangjin"
   ]
  },
  {
   "cell_type": "code",
   "execution_count": 22,
   "id": "49bbff1b",
   "metadata": {},
   "outputs": [],
   "source": [
    "sangjin.index.name = '건형'"
   ]
  },
  {
   "cell_type": "code",
   "execution_count": 23,
   "id": "c13d81e9",
   "metadata": {},
   "outputs": [
    {
     "data": {
      "text/plain": [
       "건형\n",
       "머리    10\n",
       "어깨    20\n",
       "무릎    30\n",
       "발     40\n",
       "무릎    50\n",
       "Name: 상진, dtype: int64"
      ]
     },
     "execution_count": 23,
     "metadata": {},
     "output_type": "execute_result"
    }
   ],
   "source": [
    "sangjin"
   ]
  },
  {
   "cell_type": "code",
   "execution_count": 24,
   "id": "a68952a2",
   "metadata": {},
   "outputs": [],
   "source": [
    "data = {'state': ['Ohio','Ohio','Ohio','Nevada','Nevada','Nevada'],\n",
    "       'year' : [2000,2001,2002,2001,2002,2003],\n",
    "       'pop': [1.5, 1.7, 3.6, 2.4, 2.9, 3.2]}\n",
    "frame = pd.DataFrame(data)"
   ]
  },
  {
   "cell_type": "code",
   "execution_count": 25,
   "id": "57f5792b",
   "metadata": {},
   "outputs": [
    {
     "data": {
      "text/html": [
       "<div>\n",
       "<style scoped>\n",
       "    .dataframe tbody tr th:only-of-type {\n",
       "        vertical-align: middle;\n",
       "    }\n",
       "\n",
       "    .dataframe tbody tr th {\n",
       "        vertical-align: top;\n",
       "    }\n",
       "\n",
       "    .dataframe thead th {\n",
       "        text-align: right;\n",
       "    }\n",
       "</style>\n",
       "<table border=\"1\" class=\"dataframe\">\n",
       "  <thead>\n",
       "    <tr style=\"text-align: right;\">\n",
       "      <th></th>\n",
       "      <th>state</th>\n",
       "      <th>year</th>\n",
       "      <th>pop</th>\n",
       "    </tr>\n",
       "  </thead>\n",
       "  <tbody>\n",
       "    <tr>\n",
       "      <th>0</th>\n",
       "      <td>Ohio</td>\n",
       "      <td>2000</td>\n",
       "      <td>1.5</td>\n",
       "    </tr>\n",
       "    <tr>\n",
       "      <th>1</th>\n",
       "      <td>Ohio</td>\n",
       "      <td>2001</td>\n",
       "      <td>1.7</td>\n",
       "    </tr>\n",
       "    <tr>\n",
       "      <th>2</th>\n",
       "      <td>Ohio</td>\n",
       "      <td>2002</td>\n",
       "      <td>3.6</td>\n",
       "    </tr>\n",
       "    <tr>\n",
       "      <th>3</th>\n",
       "      <td>Nevada</td>\n",
       "      <td>2001</td>\n",
       "      <td>2.4</td>\n",
       "    </tr>\n",
       "    <tr>\n",
       "      <th>4</th>\n",
       "      <td>Nevada</td>\n",
       "      <td>2002</td>\n",
       "      <td>2.9</td>\n",
       "    </tr>\n",
       "    <tr>\n",
       "      <th>5</th>\n",
       "      <td>Nevada</td>\n",
       "      <td>2003</td>\n",
       "      <td>3.2</td>\n",
       "    </tr>\n",
       "  </tbody>\n",
       "</table>\n",
       "</div>"
      ],
      "text/plain": [
       "    state  year  pop\n",
       "0    Ohio  2000  1.5\n",
       "1    Ohio  2001  1.7\n",
       "2    Ohio  2002  3.6\n",
       "3  Nevada  2001  2.4\n",
       "4  Nevada  2002  2.9\n",
       "5  Nevada  2003  3.2"
      ]
     },
     "execution_count": 25,
     "metadata": {},
     "output_type": "execute_result"
    }
   ],
   "source": [
    "frame"
   ]
  },
  {
   "cell_type": "code",
   "execution_count": null,
   "id": "14186420",
   "metadata": {},
   "outputs": [],
   "source": []
  }
 ],
 "metadata": {
  "kernelspec": {
   "display_name": "Python 3",
   "language": "python",
   "name": "python3"
  },
  "language_info": {
   "codemirror_mode": {
    "name": "ipython",
    "version": 3
   },
   "file_extension": ".py",
   "mimetype": "text/x-python",
   "name": "python",
   "nbconvert_exporter": "python",
   "pygments_lexer": "ipython3",
   "version": "3.8.8"
  }
 },
 "nbformat": 4,
 "nbformat_minor": 5
}
