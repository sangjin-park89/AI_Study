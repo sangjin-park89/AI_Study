{
 "cells": [
  {
   "cell_type": "code",
   "execution_count": 1,
   "id": "a74b2c4e",
   "metadata": {},
   "outputs": [],
   "source": [
    "import requests"
   ]
  },
  {
   "cell_type": "code",
   "execution_count": 2,
   "id": "41532e94",
   "metadata": {},
   "outputs": [],
   "source": [
    "url = \"https://www.google.com/images/branding/googlelogo/1x/googlelogo_color_272x92dp.png\""
   ]
  },
  {
   "cell_type": "code",
   "execution_count": 3,
   "id": "ace6a9d3",
   "metadata": {},
   "outputs": [],
   "source": [
    "r = requests.get(url)"
   ]
  },
  {
   "cell_type": "code",
   "execution_count": 4,
   "id": "8bd851d3",
   "metadata": {},
   "outputs": [
    {
     "data": {
      "text/plain": [
       "200"
      ]
     },
     "execution_count": 4,
     "metadata": {},
     "output_type": "execute_result"
    }
   ],
   "source": [
    "r.status_code"
   ]
  },
  {
   "cell_type": "code",
   "execution_count": 6,
   "id": "e992d630",
   "metadata": {},
   "outputs": [],
   "source": [
    "from PIL import Image\n",
    "from io import BytesIO"
   ]
  },
  {
   "cell_type": "code",
   "execution_count": 8,
   "id": "f76a3503",
   "metadata": {},
   "outputs": [
    {
     "data": {
      "image/png": "[encoded data removed]",
      "text/plain": [
       "<PIL.PngImagePlugin.PngImageFile image mode=RGBA size=272x92 at 0x20034E70520>"
      ]
     },
     "execution_count": 8,
     "metadata": {},
     "output_type": "execute_result"
    }
   ],
   "source": [
    "Image.open(BytesIO(r.content))"
   ]
  },
  {
   "cell_type": "code",
   "execution_count": 9,
   "id": "5c09ade5",
   "metadata": {},
   "outputs": [],
   "source": [
    "import os"
   ]
  },
  {
   "cell_type": "code",
   "execution_count": 10,
   "id": "be660177",
   "metadata": {},
   "outputs": [],
   "source": [
    "image_name = os.path.basename(url)"
   ]
  },
  {
   "cell_type": "code",
   "execution_count": 12,
   "id": "c9fc04d9",
   "metadata": {},
   "outputs": [
    {
     "data": {
      "text/plain": [
       "'googlelogo_color_272x92dp.png'"
      ]
     },
     "execution_count": 12,
     "metadata": {},
     "output_type": "execute_result"
    }
   ],
   "source": [
    "image_name"
   ]
  },
  {
   "cell_type": "code",
   "execution_count": 18,
   "id": "232a8691",
   "metadata": {},
   "outputs": [],
   "source": [
    "image_folder = f\"{os.getcwd()}/Image\"\n",
    "if not os.path.isdir(image_folder):\n",
    "    os.mkdir(image_folder)"
   ]
  },
  {
   "cell_type": "code",
   "execution_count": 19,
   "id": "83afaa78",
   "metadata": {},
   "outputs": [],
   "source": [
    "image_path = os.path.join(image_folder, image_name)"
   ]
  },
  {
   "cell_type": "code",
   "execution_count": 20,
   "id": "93ccf3ef",
   "metadata": {},
   "outputs": [],
   "source": [
    "image = open(image_path, 'wb')\n",
    "image.write(r.content)\n",
    "image.close()"
   ]
  },
  {
   "cell_type": "code",
   "execution_count": null,
   "id": "1dff42ff",
   "metadata": {},
   "outputs": [],
   "source": []
  }
 ],
 "metadata": {
  "kernelspec": {
   "display_name": "Python 3",
   "language": "python",
   "name": "python3"
  },
  "language_info": {
   "codemirror_mode": {
    "name": "ipython",
    "version": 3
   },
   "file_extension": ".py",
   "mimetype": "text/x-python",
   "name": "python",
   "nbconvert_exporter": "python",
   "pygments_lexer": "ipython3",
   "version": "3.8.8"
  }
 },
 "nbformat": 4,
 "nbformat_minor": 5
}
