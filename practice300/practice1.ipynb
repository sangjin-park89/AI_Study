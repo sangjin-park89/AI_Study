{
 "cells": [
  {
   "cell_type": "code",
   "execution_count": 1,
   "id": "05723222",
   "metadata": {},
   "outputs": [
    {
     "name": "stdout",
     "output_type": "stream",
     "text": [
      "Mary's cosmetics\n"
     ]
    }
   ],
   "source": [
    "print(\"Mary's cosmetics\")"
   ]
  },
  {
   "cell_type": "code",
   "execution_count": 2,
   "id": "6863a0d4",
   "metadata": {},
   "outputs": [
    {
     "name": "stdout",
     "output_type": "stream",
     "text": [
      "신씨가 소리질렀다. \"도둑이야.\" \n"
     ]
    }
   ],
   "source": [
    "print('신씨가 소리질렀다. \"도둑이야.\" ')"
   ]
  },
  {
   "cell_type": "code",
   "execution_count": 6,
   "id": "9a467783",
   "metadata": {},
   "outputs": [
    {
     "name": "stdout",
     "output_type": "stream",
     "text": [
      "\"C:\\Windows\"\n"
     ]
    }
   ],
   "source": [
    "print('\"C:\\Windows\"')"
   ]
  },
  {
   "cell_type": "code",
   "execution_count": 7,
   "id": "d6c2480b",
   "metadata": {},
   "outputs": [
    {
     "name": "stdout",
     "output_type": "stream",
     "text": [
      "안녕하세요.\n",
      "만나서\t\t반갑습니다.\n"
     ]
    }
   ],
   "source": [
    "print(\"안녕하세요.\\n만나서\\t\\t반갑습니다.\")"
   ]
  },
  {
   "cell_type": "code",
   "execution_count": 8,
   "id": "1e5baa29",
   "metadata": {},
   "outputs": [
    {
     "name": "stdout",
     "output_type": "stream",
     "text": [
      "오늘은 일요일\n"
     ]
    }
   ],
   "source": [
    "print(\"오늘은\",\"일요일\")"
   ]
  },
  {
   "cell_type": "code",
   "execution_count": 10,
   "id": "cddf16f1",
   "metadata": {},
   "outputs": [
    {
     "name": "stdout",
     "output_type": "stream",
     "text": [
      "naver;kakao;sk;samsung\n"
     ]
    }
   ],
   "source": [
    "print(\"naver\",\"kakao\",\"sk\",\"samsung\", sep=\";\")"
   ]
  },
  {
   "cell_type": "code",
   "execution_count": 11,
   "id": "1ac30eab",
   "metadata": {},
   "outputs": [
    {
     "name": "stdout",
     "output_type": "stream",
     "text": [
      "naver/kakao/sk/samsung\n"
     ]
    }
   ],
   "source": [
    "print(\"naver\",\"kakao\",\"sk\",\"samsung\", sep=\"/\")"
   ]
  },
  {
   "cell_type": "code",
   "execution_count": 12,
   "id": "0fbba18a",
   "metadata": {},
   "outputs": [
    {
     "name": "stdout",
     "output_type": "stream",
     "text": [
      "firstsecond\n"
     ]
    }
   ],
   "source": [
    "print(\"first\", end=\"\"); print(\"second\")"
   ]
  },
  {
   "cell_type": "code",
   "execution_count": 13,
   "id": "ac1725a2",
   "metadata": {},
   "outputs": [
    {
     "name": "stdout",
     "output_type": "stream",
     "text": [
      "1.6666666666666667\n"
     ]
    }
   ],
   "source": [
    "print(5/3)"
   ]
  },
  {
   "cell_type": "code",
   "execution_count": 14,
   "id": "0ddd975f",
   "metadata": {},
   "outputs": [],
   "source": [
    "삼성전자 = 50000"
   ]
  },
  {
   "cell_type": "code",
   "execution_count": 16,
   "id": "ce82912b",
   "metadata": {},
   "outputs": [
    {
     "data": {
      "text/plain": [
       "500000"
      ]
     },
     "execution_count": 16,
     "metadata": {},
     "output_type": "execute_result"
    }
   ],
   "source": [
    "삼성전자 * 10"
   ]
  },
  {
   "cell_type": "code",
   "execution_count": 17,
   "id": "f0b70753",
   "metadata": {},
   "outputs": [],
   "source": [
    "#답\n",
    "총평가금액 = 삼성전자 * 10"
   ]
  },
  {
   "cell_type": "code",
   "execution_count": 18,
   "id": "63006041",
   "metadata": {},
   "outputs": [
    {
     "name": "stdout",
     "output_type": "stream",
     "text": [
      "500000\n"
     ]
    }
   ],
   "source": [
    "print(총평가금액)"
   ]
  },
  {
   "cell_type": "code",
   "execution_count": 19,
   "id": "5ff11271",
   "metadata": {},
   "outputs": [],
   "source": [
    "시가총액 = '298조'\n",
    "현재가 = '50,000원'\n",
    "per = '15.79'"
   ]
  },
  {
   "cell_type": "code",
   "execution_count": 20,
   "id": "c7509c6b",
   "metadata": {},
   "outputs": [
    {
     "name": "stdout",
     "output_type": "stream",
     "text": [
      "298조\n"
     ]
    }
   ],
   "source": [
    "print(시가총액)"
   ]
  },
  {
   "cell_type": "code",
   "execution_count": 21,
   "id": "9d48336d",
   "metadata": {},
   "outputs": [
    {
     "name": "stdout",
     "output_type": "stream",
     "text": [
      "50,000원\n"
     ]
    }
   ],
   "source": [
    "print(현재가)"
   ]
  },
  {
   "cell_type": "code",
   "execution_count": 22,
   "id": "83a89d64",
   "metadata": {},
   "outputs": [
    {
     "name": "stdout",
     "output_type": "stream",
     "text": [
      "15.79\n"
     ]
    }
   ],
   "source": [
    "print(per)"
   ]
  },
  {
   "cell_type": "code",
   "execution_count": 23,
   "id": "b47f6d3d",
   "metadata": {},
   "outputs": [
    {
     "name": "stdout",
     "output_type": "stream",
     "text": [
      "298조 <class 'str'>\n"
     ]
    }
   ],
   "source": [
    "#답\n",
    "print(시가총액, type(시가총액))"
   ]
  },
  {
   "cell_type": "code",
   "execution_count": 24,
   "id": "cc6a41d3",
   "metadata": {},
   "outputs": [],
   "source": [
    "s = \"hello\"\n",
    "t = \"python\""
   ]
  },
  {
   "cell_type": "code",
   "execution_count": 27,
   "id": "ad05a1e2",
   "metadata": {},
   "outputs": [
    {
     "name": "stdout",
     "output_type": "stream",
     "text": [
      "hello! python\n"
     ]
    }
   ],
   "source": [
    "print(s,t,sep=\"! \")"
   ]
  },
  {
   "cell_type": "code",
   "execution_count": 28,
   "id": "09cbb7ca",
   "metadata": {},
   "outputs": [
    {
     "name": "stdout",
     "output_type": "stream",
     "text": [
      "hello! python\n"
     ]
    }
   ],
   "source": [
    "print(s+\"!\", t)"
   ]
  },
  {
   "cell_type": "code",
   "execution_count": 29,
   "id": "208b3250",
   "metadata": {},
   "outputs": [
    {
     "data": {
      "text/plain": [
       "8"
      ]
     },
     "execution_count": 29,
     "metadata": {},
     "output_type": "execute_result"
    }
   ],
   "source": [
    "2+2*3"
   ]
  },
  {
   "cell_type": "code",
   "execution_count": 30,
   "id": "6d4b2e49",
   "metadata": {},
   "outputs": [
    {
     "name": "stdout",
     "output_type": "stream",
     "text": [
      "<class 'int'>\n"
     ]
    }
   ],
   "source": [
    "a = 128\n",
    "print (type(a))"
   ]
  },
  {
   "cell_type": "code",
   "execution_count": 32,
   "id": "e78fcb6b",
   "metadata": {},
   "outputs": [
    {
     "name": "stdout",
     "output_type": "stream",
     "text": [
      "<class 'str'>\n"
     ]
    }
   ],
   "source": [
    "a = \"132\"\n",
    "print (type(a))"
   ]
  },
  {
   "cell_type": "code",
   "execution_count": 34,
   "id": "5c3c1d02",
   "metadata": {},
   "outputs": [],
   "source": [
    "num_str = 720"
   ]
  },
  {
   "cell_type": "code",
   "execution_count": 35,
   "id": "e895b113",
   "metadata": {},
   "outputs": [
    {
     "name": "stdout",
     "output_type": "stream",
     "text": [
      "<class 'int'>\n"
     ]
    }
   ],
   "source": [
    "print(type(num_str))"
   ]
  },
  {
   "cell_type": "code",
   "execution_count": 36,
   "id": "d0334127",
   "metadata": {},
   "outputs": [],
   "source": [
    "num_str = \"720\""
   ]
  },
  {
   "cell_type": "code",
   "execution_count": 37,
   "id": "bad0cb5d",
   "metadata": {},
   "outputs": [],
   "source": [
    "num_int = int(num_str)"
   ]
  },
  {
   "cell_type": "code",
   "execution_count": 38,
   "id": "31758452",
   "metadata": {},
   "outputs": [
    {
     "name": "stdout",
     "output_type": "stream",
     "text": [
      "721 <class 'int'>\n"
     ]
    }
   ],
   "source": [
    "print(num_int+1, type(num_int))"
   ]
  },
  {
   "cell_type": "code",
   "execution_count": 39,
   "id": "d6f09b6c",
   "metadata": {},
   "outputs": [],
   "source": [
    "num = 100"
   ]
  },
  {
   "cell_type": "code",
   "execution_count": 40,
   "id": "6427eb24",
   "metadata": {},
   "outputs": [],
   "source": [
    "num2 = str(num)"
   ]
  },
  {
   "cell_type": "code",
   "execution_count": 41,
   "id": "036b4d9d",
   "metadata": {},
   "outputs": [
    {
     "name": "stdout",
     "output_type": "stream",
     "text": [
      "<class 'str'>\n"
     ]
    }
   ],
   "source": [
    "print(type(num2))"
   ]
  },
  {
   "cell_type": "code",
   "execution_count": 42,
   "id": "cb4529a0",
   "metadata": {},
   "outputs": [],
   "source": [
    "mun = \"15.79\""
   ]
  },
  {
   "cell_type": "code",
   "execution_count": 44,
   "id": "29d0c343",
   "metadata": {},
   "outputs": [],
   "source": [
    "mun2 = float(mun)"
   ]
  },
  {
   "cell_type": "code",
   "execution_count": 45,
   "id": "28875441",
   "metadata": {},
   "outputs": [
    {
     "name": "stdout",
     "output_type": "stream",
     "text": [
      "15.79\n"
     ]
    }
   ],
   "source": [
    "print(mun2)"
   ]
  },
  {
   "cell_type": "code",
   "execution_count": 46,
   "id": "b781acad",
   "metadata": {},
   "outputs": [
    {
     "name": "stdout",
     "output_type": "stream",
     "text": [
      "15.79 <class 'float'>\n"
     ]
    }
   ],
   "source": [
    "print(mun2, type(mun2))"
   ]
  },
  {
   "cell_type": "code",
   "execution_count": 48,
   "id": "f63d7bb9",
   "metadata": {},
   "outputs": [
    {
     "name": "stdout",
     "output_type": "stream",
     "text": [
      "2019.0 2020.0 2021.0\n"
     ]
    }
   ],
   "source": [
    "year = \"2020\"\n",
    "year2 = float(year)\n",
    "print(year2-1, year2, year2+1)"
   ]
  },
  {
   "cell_type": "code",
   "execution_count": 49,
   "id": "d4dd60e8",
   "metadata": {},
   "outputs": [
    {
     "name": "stdout",
     "output_type": "stream",
     "text": [
      "1749024\n"
     ]
    }
   ],
   "source": [
    "aircon = 48584\n",
    "print(aircon*36)"
   ]
  },
  {
   "cell_type": "code",
   "execution_count": 50,
   "id": "ddc01cbb",
   "metadata": {},
   "outputs": [
    {
     "name": "stdout",
     "output_type": "stream",
     "text": [
      "1749024\n"
     ]
    }
   ],
   "source": [
    "월납입금 = 48584\n",
    "총금액 = 월납입금 * 36\n",
    "print(총금액)"
   ]
  },
  {
   "cell_type": "code",
   "execution_count": 51,
   "id": "8c221f94",
   "metadata": {},
   "outputs": [],
   "source": [
    "letters = 'python'"
   ]
  },
  {
   "cell_type": "code",
   "execution_count": 64,
   "id": "b7a44258",
   "metadata": {},
   "outputs": [],
   "source": [
    "a = letters[0] , letters[2]"
   ]
  },
  {
   "cell_type": "code",
   "execution_count": 66,
   "id": "402e39b2",
   "metadata": {},
   "outputs": [
    {
     "name": "stdout",
     "output_type": "stream",
     "text": [
      "p t\n"
     ]
    }
   ],
   "source": [
    "print(letters[0], letters[2])"
   ]
  },
  {
   "cell_type": "code",
   "execution_count": 68,
   "id": "da5650c8",
   "metadata": {},
   "outputs": [],
   "source": [
    "auto = \"10머 2915\""
   ]
  },
  {
   "cell_type": "code",
   "execution_count": 69,
   "id": "3abb518b",
   "metadata": {},
   "outputs": [
    {
     "name": "stdout",
     "output_type": "stream",
     "text": [
      "2915\n"
     ]
    }
   ],
   "source": [
    "print(auto[-4:])"
   ]
  },
  {
   "cell_type": "code",
   "execution_count": 70,
   "id": "798da8e1",
   "metadata": {},
   "outputs": [],
   "source": [
    "string = \"홀짝홀짝홀짝\""
   ]
  },
  {
   "cell_type": "code",
   "execution_count": 81,
   "id": "8b0174d5",
   "metadata": {},
   "outputs": [
    {
     "name": "stdout",
     "output_type": "stream",
     "text": [
      "홀짝홀짝홀짝\n"
     ]
    }
   ],
   "source": [
    "print(string[::1])"
   ]
  },
  {
   "cell_type": "code",
   "execution_count": 82,
   "id": "aa9e1859",
   "metadata": {},
   "outputs": [
    {
     "name": "stdout",
     "output_type": "stream",
     "text": [
      "홀홀홀\n"
     ]
    }
   ],
   "source": [
    "print(string[::2])"
   ]
  },
  {
   "cell_type": "code",
   "execution_count": 83,
   "id": "1f3314c8",
   "metadata": {},
   "outputs": [
    {
     "name": "stdout",
     "output_type": "stream",
     "text": [
      "홀짝\n"
     ]
    }
   ],
   "source": [
    "print(string[::3])"
   ]
  },
  {
   "cell_type": "code",
   "execution_count": 84,
   "id": "e17f9f95",
   "metadata": {},
   "outputs": [
    {
     "name": "stdout",
     "output_type": "stream",
     "text": [
      "홀홀\n"
     ]
    }
   ],
   "source": [
    "print(string[::4])"
   ]
  },
  {
   "cell_type": "code",
   "execution_count": 85,
   "id": "f850b2f8",
   "metadata": {},
   "outputs": [
    {
     "name": "stdout",
     "output_type": "stream",
     "text": [
      "홀짝\n"
     ]
    }
   ],
   "source": [
    "print(string[::5])"
   ]
  },
  {
   "cell_type": "code",
   "execution_count": 86,
   "id": "8d80720a",
   "metadata": {},
   "outputs": [
    {
     "name": "stdout",
     "output_type": "stream",
     "text": [
      "홀\n"
     ]
    }
   ],
   "source": [
    "print(string[::6])"
   ]
  },
  {
   "cell_type": "code",
   "execution_count": 97,
   "id": "c932337f",
   "metadata": {},
   "outputs": [],
   "source": [
    "abc = \"PYTHON\""
   ]
  },
  {
   "cell_type": "code",
   "execution_count": 101,
   "id": "40320542",
   "metadata": {},
   "outputs": [
    {
     "name": "stdout",
     "output_type": "stream",
     "text": [
      "NOHTYP\n"
     ]
    }
   ],
   "source": [
    "print(abc[::-1])"
   ]
  },
  {
   "cell_type": "code",
   "execution_count": 100,
   "id": "05b0e854",
   "metadata": {},
   "outputs": [
    {
     "name": "stdout",
     "output_type": "stream",
     "text": [
      "NOHTYP\n"
     ]
    }
   ],
   "source": [
    "print(abc[5]+abc[4]+abc[3]+abc[2]+abc[1]+abc[0])"
   ]
  },
  {
   "cell_type": "code",
   "execution_count": 102,
   "id": "6eff0b0c",
   "metadata": {},
   "outputs": [],
   "source": [
    "phone = \"010-1111-2222\""
   ]
  },
  {
   "cell_type": "code",
   "execution_count": 103,
   "id": "4393d519",
   "metadata": {},
   "outputs": [
    {
     "data": {
      "text/plain": [
       "['010-1111-2222']"
      ]
     },
     "execution_count": 103,
     "metadata": {},
     "output_type": "execute_result"
    }
   ],
   "source": [
    "phone = "
   ]
  },
  {
   "cell_type": "code",
   "execution_count": 104,
   "id": "0ed32756",
   "metadata": {},
   "outputs": [
    {
     "ename": "TypeError",
     "evalue": "'str' object does not support item assignment",
     "output_type": "error",
     "traceback": [
      "\u001b[1;31m---------------------------------------------------------------------------\u001b[0m",
      "\u001b[1;31mTypeError\u001b[0m                                 Traceback (most recent call last)",
      "\u001b[1;32m<ipython-input-104-f13b501cc4c0>\u001b[0m in \u001b[0;36m<module>\u001b[1;34m\u001b[0m\n\u001b[1;32m----> 1\u001b[1;33m \u001b[0mphone\u001b[0m\u001b[1;33m[\u001b[0m\u001b[1;36m3\u001b[0m\u001b[1;33m]\u001b[0m \u001b[1;33m=\u001b[0m\u001b[1;34m\" \"\u001b[0m\u001b[1;33m;\u001b[0m\u001b[1;33m\u001b[0m\u001b[1;33m\u001b[0m\u001b[0m\n\u001b[0m\u001b[0;32m      2\u001b[0m \u001b[0mphone\u001b[0m\u001b[1;33m[\u001b[0m\u001b[1;33m-\u001b[0m\u001b[1;36m5\u001b[0m\u001b[1;33m]\u001b[0m \u001b[1;33m=\u001b[0m\u001b[1;34m\" \"\u001b[0m\u001b[1;33m\u001b[0m\u001b[1;33m\u001b[0m\u001b[0m\n",
      "\u001b[1;31mTypeError\u001b[0m: 'str' object does not support item assignment"
     ]
    }
   ],
   "source": [
    "phone[3] =\" \";\n",
    "phone[-5] =\" \""
   ]
  },
  {
   "cell_type": "code",
   "execution_count": null,
   "id": "c1e1035c",
   "metadata": {},
   "outputs": [],
   "source": []
  }
 ],
 "metadata": {
  "kernelspec": {
   "display_name": "Python 3",
   "language": "python",
   "name": "python3"
  },
  "language_info": {
   "codemirror_mode": {
    "name": "ipython",
    "version": 3
   },
   "file_extension": ".py",
   "mimetype": "text/x-python",
   "name": "python",
   "nbconvert_exporter": "python",
   "pygments_lexer": "ipython3",
   "version": "3.8.8"
  }
 },
 "nbformat": 4,
 "nbformat_minor": 5
}
